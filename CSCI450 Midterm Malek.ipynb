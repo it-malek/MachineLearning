{
 "cells": [
  {
   "cell_type": "markdown",
   "id": "db884e39",
   "metadata": {},
   "source": [
    "### CSCI 450 - Midterm One\n",
    "Malek Elaghel\n"
   ]
  },
  {
   "cell_type": "code",
   "execution_count": 2,
   "id": "0506f311",
   "metadata": {},
   "outputs": [
    {
     "name": "stdout",
     "output_type": "stream",
     "text": [
      "Green Rectangle Location:\n",
      "Top-Left Corner (row, col): (143, 79)\n",
      "Bottom-Right Corner (row, col): (176, 144)\n"
     ]
    }
   ],
   "source": [
    "import numpy as np\n",
    "from skimage import io\n",
    "    \n",
    "image = io.imread('test.jpg')\n",
    "\n",
    "# Find the rows and columns that contain green pixelss\n",
    "green_pixels = np.where((image[..., 1] > image[..., 0]) & (image[..., 1] > image[..., 2]))\n",
    "\n",
    "min_row, min_col = np.min(green_pixels, axis=1)\n",
    "max_row, max_col = np.max(green_pixels, axis=1)\n",
    "print(f\"Green Rectangle Location:\\nTop-Left Corn er (row, col): ({min_row}, {min_col})\\nBottom-Right Corner (row, col): ({max_row}, {max_col})\")\n"
   ]
  },
  {
   "cell_type": "code",
   "execution_count": 3,
   "id": "98d4d4ba",
   "metadata": {},
   "outputs": [
    {
     "data": {
      "text/plain": [
       "(array([143, 143, 143, ..., 176, 176, 176], dtype=int64),\n",
       " array([ 79,  80,  81, ..., 137, 138, 139], dtype=int64))"
      ]
     },
     "execution_count": 3,
     "metadata": {},
     "output_type": "execute_result"
    },
    {
     "ename": "",
     "evalue": "",
     "output_type": "error",
     "traceback": [
      "\u001b[1;31mThe Kernel crashed while executing code in the the current cell or a previous cell. Please review the code in the cell(s) to identify a possible cause of the failure. Click <a href='https://aka.ms/vscodeJupyterKernelCrash'>here</a> for more info. View Jupyter <a href='command:jupyter.viewOutput'>log</a> for further details."
     ]
    }
   ],
   "source": [
    "green_pixels\n"
   ]
  }
 ],
 "metadata": {
  "kernelspec": {
   "display_name": "Python 3 (ipykernel)",
   "language": "python",
   "name": "python3"
  },
  "language_info": {
   "codemirror_mode": {
    "name": "ipython",
    "version": 3
   },
   "file_extension": ".py",
   "mimetype": "text/x-python",
   "name": "python",
   "nbconvert_exporter": "python",
   "pygments_lexer": "ipython3",
   "version": "3.12.0"
  }
 },
 "nbformat": 4,
 "nbformat_minor": 5
}
